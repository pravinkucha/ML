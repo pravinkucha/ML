{
 "cells": [
  {
   "cell_type": "code",
   "execution_count": 30,
   "metadata": {},
   "outputs": [
    {
     "data": {
      "text/plain": [
       "146"
      ]
     },
     "execution_count": 30,
     "metadata": {},
     "output_type": "execute_result"
    }
   ],
   "source": [
    "import pickle\n",
    "import json\n",
    "import sys\n",
    "sys.path.append('../final_project/')\n",
    "from poi_email_addresses import poiEmails\n",
    "\n",
    "\n",
    "enron_data = pickle.load(open(\"../final_project/final_project_dataset.pkl\", \"rb\"))\n",
    "len(enron_data)"
   ]
  },
  {
   "cell_type": "code",
   "execution_count": 48,
   "metadata": {},
   "outputs": [],
   "source": [
    "salry_cnt = 0;\n",
    "email_cnt = 0;\n",
    "for x in enron_data:\n",
    "    if enron_data[x]['total_payments'] =='NaN':\n",
    "       salry_cnt +=  1\n",
    "    if enron_data[x]['email_address'] !='NaN':\n",
    "       email_cnt +=  1"
   ]
  },
  {
   "cell_type": "code",
   "execution_count": 49,
   "metadata": {},
   "outputs": [
    {
     "name": "stdout",
     "output_type": "stream",
     "text": [
      "21\n",
      "111\n"
     ]
    }
   ],
   "source": [
    "print(salry_cnt)\n",
    "print(email_cnt)"
   ]
  },
  {
   "cell_type": "code",
   "execution_count": 40,
   "metadata": {},
   "outputs": [
    {
     "data": {
      "text/plain": [
       "['kenneth_lay@enron.net',\n",
       " 'kenneth_lay@enron.com',\n",
       " 'klay.enron@enron.com',\n",
       " 'kenneth.lay@enron.com',\n",
       " 'klay@enron.com',\n",
       " 'layk@enron.com',\n",
       " 'chairman.ken@enron.com',\n",
       " 'jeffreyskilling@yahoo.com',\n",
       " 'jeff_skilling@enron.com',\n",
       " 'jskilling@enron.com',\n",
       " 'effrey.skilling@enron.com',\n",
       " 'skilling@enron.com',\n",
       " 'jeffrey.k.skilling@enron.com',\n",
       " 'jeff.skilling@enron.com',\n",
       " 'kevin_a_howard.enronxgate.enron@enron.net',\n",
       " 'kevin.howard@enron.com',\n",
       " 'kevin.howard@enron.net',\n",
       " 'kevin.howard@gcm.com',\n",
       " 'michael.krautz@enron.comscott.yeager@enron.com',\n",
       " 'syeager@fyi-net.com',\n",
       " 'scott_yeager@enron.net',\n",
       " 'syeager@flash.net',\n",
       " \"joe'.'hirko@enron.com\",\n",
       " 'joe.hirko@enron.com',\n",
       " 'rex.shelby@enron.com',\n",
       " 'rex.shelby@enron.nt',\n",
       " 'rex_shelby@enron.net',\n",
       " 'jbrown@enron.com',\n",
       " 'james.brown@enron.com',\n",
       " 'rick.causey@enron.com',\n",
       " 'richard.causey@enron.com',\n",
       " 'rcausey@enron.com',\n",
       " 'calger@enron.com',\n",
       " 'chris.calger@enron.com',\n",
       " 'christopher.calger@enron.com',\n",
       " 'ccalger@enron.com',\n",
       " 'tim_despain.enronxgate.enron@enron.net',\n",
       " 'tim.despain@enron.com',\n",
       " 'kevin_hannon@enron.com',\n",
       " \"kevin'.'hannon@enron.com\",\n",
       " 'kevin_hannon@enron.net',\n",
       " 'kevin.hannon@enron.com',\n",
       " 'mkoenig@enron.com',\n",
       " 'mark.koenig@enron.com',\n",
       " 'm..forney@enron.com',\n",
       " \"ken'.'rice@enron.com\",\n",
       " 'ken.rice@enron.com',\n",
       " 'ken_rice@enron.com',\n",
       " 'ken_rice@enron.net',\n",
       " 'paula.rieker@enron.com',\n",
       " 'prieker@enron.com',\n",
       " 'andrew.fastow@enron.com',\n",
       " 'lfastow@pdq.net',\n",
       " 'andrew.s.fastow@enron.com',\n",
       " 'lfastow@pop.pdq.net',\n",
       " 'andy.fastow@enron.com',\n",
       " 'david.w.delainey@enron.com',\n",
       " 'delainey.dave@enron.com',\n",
       " \"'delainey@enron.com\",\n",
       " 'david.delainey@enron.com',\n",
       " \"'david.delainey'@enron.com\",\n",
       " 'dave.delainey@enron.com',\n",
       " \"delainey'.'david@enron.com\",\n",
       " 'ben.glisan@enron.com',\n",
       " 'bglisan@enron.com',\n",
       " 'ben_f_glisan@enron.com',\n",
       " \"ben'.'glisan@enron.com\",\n",
       " 'jeff.richter@enron.com',\n",
       " 'jrichter@nwlink.com',\n",
       " 'lawrencelawyer@aol.com',\n",
       " \"lawyer'.'larry@enron.com\",\n",
       " 'larry_lawyer@enron.com',\n",
       " 'llawyer@enron.com',\n",
       " 'larry.lawyer@enron.com',\n",
       " 'lawrence.lawyer@enron.com',\n",
       " 'tbelden@enron.com',\n",
       " 'tim.belden@enron.com',\n",
       " 'tim_belden@pgn.com',\n",
       " 'tbelden@ect.enron.com',\n",
       " 'michael.kopper@enron.com',\n",
       " 'dave.duncan@enron.com',\n",
       " 'dave.duncan@cipco.org',\n",
       " 'duncan.dave@enron.com',\n",
       " 'ray.bowen@enron.com',\n",
       " 'raymond.bowen@enron.com',\n",
       " \"'bowen@enron.com\",\n",
       " 'wes.colwell@enron.com',\n",
       " 'dan.boyle@enron.com',\n",
       " 'cloehr@enron.com',\n",
       " 'chris.loehr@enron.com']"
      ]
     },
     "execution_count": 40,
     "metadata": {},
     "output_type": "execute_result"
    }
   ],
   "source": [
    "poiEmails_list = poiEmails()\n",
    "poiEmails_list"
   ]
  },
  {
   "cell_type": "code",
   "execution_count": 43,
   "metadata": {},
   "outputs": [
    {
     "data": {
      "text/plain": [
       "90"
      ]
     },
     "execution_count": 43,
     "metadata": {},
     "output_type": "execute_result"
    }
   ],
   "source": [
    "len(poiEmails_list)"
   ]
  },
  {
   "cell_type": "code",
   "execution_count": 45,
   "metadata": {},
   "outputs": [],
   "source": [
    "i = 0;\n",
    "lenth = 0;\n",
    "for x in enron_data:\n",
    "    if enron_data[x]['poi'] ==True:\n",
    "        lenth += 1\n",
    "        if enron_data[x]['total_payments'] =='NaN':\n",
    "            i +=  1      "
   ]
  },
  {
   "cell_type": "code",
   "execution_count": 46,
   "metadata": {},
   "outputs": [
    {
     "data": {
      "text/plain": [
       "18"
      ]
     },
     "execution_count": 46,
     "metadata": {},
     "output_type": "execute_result"
    }
   ],
   "source": [
    "lenth"
   ]
  },
  {
   "cell_type": "code",
   "execution_count": 47,
   "metadata": {},
   "outputs": [
    {
     "data": {
      "text/plain": [
       "0"
      ]
     },
     "execution_count": 47,
     "metadata": {},
     "output_type": "execute_result"
    }
   ],
   "source": [
    "i"
   ]
  },
  {
   "cell_type": "code",
   "execution_count": 54,
   "metadata": {},
   "outputs": [],
   "source": [
    "class StrToBytes:\n",
    "    def __init__(self, fileobj):\n",
    "        self.fileobj = fileobj\n",
    "    def read(self, size):\n",
    "        return self.fileobj.read(size).encode()\n",
    "    def readline(self, size=-1):\n",
    "        return self.fileobj.readline(size).encode()"
   ]
  },
  {
   "cell_type": "code",
   "execution_count": 105,
   "metadata": {},
   "outputs": [],
   "source": [
    "list_poi_name = []\n",
    "import re\n",
    "bad_chars = ['(y)', '(n)', '\\S', \"\\s\"]\n",
    "p = re.compile('|'.join(map(re.escape, to_remove))) # escape to handle metachars\n",
    "with open('../final_project/poi_names.txt','r') as file_poi_name :\n",
    "    for x in file_poi_name:\n",
    "        if len(x) > 1 and not re.search('http', x): \n",
    "            x = re.sub(\"(y)|(n)|()\",\"\",x)\n",
    "            x = re.sub('[^A-Za-z0-9,]+', '', x)\n",
    "            list_poi_name.append(x.split(\",\"))\n",
    "            l = l + 1"
   ]
  },
  {
   "cell_type": "code",
   "execution_count": 106,
   "metadata": {},
   "outputs": [
    {
     "data": {
      "text/plain": [
       "[['La', 'Keeth'],\n",
       " ['Skillig', 'Jeffre'],\n",
       " ['Howard', 'Kevi'],\n",
       " ['Krautz', 'Michael'],\n",
       " ['Yeager', 'Scott'],\n",
       " ['Hirko', 'Joseph'],\n",
       " ['Shelb', 'Rex'],\n",
       " ['Bermigham', 'David'],\n",
       " ['Darb', 'Giles'],\n",
       " ['Mulgrew', 'Gar'],\n",
       " ['Bale', 'Daiel'],\n",
       " ['Brow', 'James'],\n",
       " ['Furst', 'Robert'],\n",
       " ['Fuhs', 'William'],\n",
       " ['Cause', 'Richard'],\n",
       " ['Calger', 'Christopher'],\n",
       " ['DeSpai', 'Timoth'],\n",
       " ['Hao', 'Kevi'],\n",
       " ['Koeig', 'Mark'],\n",
       " ['Fore', 'Joh'],\n",
       " ['Rice', 'Keeth'],\n",
       " ['Rieker', 'Paula'],\n",
       " ['Fastow', 'Lea'],\n",
       " ['Fastow', 'Adrew'],\n",
       " ['Delaie', 'David'],\n",
       " ['Glisa', 'Be'],\n",
       " ['Richter', 'Jeffre'],\n",
       " ['Lawer', 'Larr'],\n",
       " ['Belde', 'Timoth'],\n",
       " ['Kopper', 'Michael'],\n",
       " ['Duca', 'David'],\n",
       " ['Bowe', 'Ramod'],\n",
       " ['Colwell', 'Wesle'],\n",
       " ['Bole', 'Da'],\n",
       " ['Loehr', 'Christopher']]"
      ]
     },
     "execution_count": 106,
     "metadata": {},
     "output_type": "execute_result"
    }
   ],
   "source": [
    "list_poi_name"
   ]
  },
  {
   "cell_type": "code",
   "execution_count": 112,
   "metadata": {},
   "outputs": [
    {
     "data": {
      "text/plain": [
       "'Keeth'"
      ]
     },
     "execution_count": 112,
     "metadata": {},
     "output_type": "execute_result"
    }
   ],
   "source": [
    "list_poi_name[0][1]"
   ]
  },
  {
   "cell_type": "code",
   "execution_count": 132,
   "metadata": {},
   "outputs": [
    {
     "data": {
      "text/plain": [
       "['ALLEN PHILLIP K',\n",
       " 'BADUM JAMES P',\n",
       " 'BANNANTINE JAMES M',\n",
       " 'BAXTER JOHN C',\n",
       " 'BAY FRANKLIN R',\n",
       " 'BAZELIDES PHILIP J',\n",
       " 'BECK SALLY W',\n",
       " 'BELDEN TIMOTHY N',\n",
       " 'BELFER ROBERT',\n",
       " 'BERBERIAN DAVID',\n",
       " 'BERGSIEKER RICHARD P',\n",
       " 'BHATNAGAR SANJAY',\n",
       " 'BIBI PHILIPPE A',\n",
       " 'BLACHMAN JEREMY M',\n",
       " 'BLAKE JR. NORMAN P',\n",
       " 'BOWEN JR RAYMOND M',\n",
       " 'BROWN MICHAEL',\n",
       " 'BUCHANAN HAROLD G',\n",
       " 'BUTTS ROBERT H',\n",
       " 'BUY RICHARD B',\n",
       " 'CALGER CHRISTOPHER F',\n",
       " 'CARTER REBECCA C',\n",
       " 'CAUSEY RICHARD A',\n",
       " 'CHAN RONNIE',\n",
       " 'CHRISTODOULOU DIOMEDES',\n",
       " 'CLINE KENNETH W',\n",
       " 'COLWELL WESLEY',\n",
       " 'CORDES WILLIAM R',\n",
       " 'COX DAVID',\n",
       " 'CUMBERLAND MICHAEL S',\n",
       " 'DEFFNER JOSEPH M',\n",
       " 'DELAINEY DAVID W',\n",
       " 'DERRICK JR. JAMES V',\n",
       " 'DETMERING TIMOTHY J',\n",
       " 'DIETRICH JANET R',\n",
       " 'DIMICHELE RICHARD G',\n",
       " 'DODSON KEITH',\n",
       " 'DONAHUE JR JEFFREY M',\n",
       " 'DUNCAN JOHN H',\n",
       " 'DURAN WILLIAM D',\n",
       " 'ECHOLS JOHN B',\n",
       " 'ELLIOTT STEVEN',\n",
       " 'FALLON JAMES B',\n",
       " 'FASTOW ANDREW S',\n",
       " 'FITZGERALD JAY L',\n",
       " 'FOWLER PEGGY',\n",
       " 'FOY JOE',\n",
       " 'FREVERT MARK A',\n",
       " 'FUGH JOHN L',\n",
       " 'GAHN ROBERT S',\n",
       " 'GARLAND C KEVIN',\n",
       " 'GATHMANN WILLIAM D',\n",
       " 'GIBBS DANA R',\n",
       " 'GILLIS JOHN',\n",
       " 'GLISAN JR BEN F',\n",
       " 'GOLD JOSEPH',\n",
       " 'GRAMM WENDY L',\n",
       " 'GRAY RODNEY',\n",
       " 'HAEDICKE MARK E',\n",
       " 'HANNON KEVIN P',\n",
       " 'HAUG DAVID L',\n",
       " 'HAYES ROBERT E',\n",
       " 'HAYSLETT RODERICK J',\n",
       " 'HERMANN ROBERT J',\n",
       " 'HICKERSON GARY J',\n",
       " 'HIRKO JOSEPH',\n",
       " 'HORTON STANLEY C',\n",
       " 'HUGHES JAMES A',\n",
       " 'HUMPHREY GENE E',\n",
       " 'IZZO LAWRENCE L',\n",
       " 'JACKSON CHARLENE R',\n",
       " 'JAEDICKE ROBERT',\n",
       " 'KAMINSKI WINCENTY J',\n",
       " 'KEAN STEVEN J',\n",
       " 'KISHKILL JOSEPH G',\n",
       " 'KITCHEN LOUISE',\n",
       " 'KOENIG MARK E',\n",
       " 'KOPPER MICHAEL J',\n",
       " 'LAVORATO JOHN J',\n",
       " 'LAY KENNETH L',\n",
       " 'LEFF DANIEL P',\n",
       " 'LEMAISTRE CHARLES',\n",
       " 'LEWIS RICHARD',\n",
       " 'LINDHOLM TOD A',\n",
       " 'LOCKHART EUGENE E',\n",
       " 'LOWRY CHARLES P',\n",
       " 'MARTIN AMANDA K',\n",
       " 'MCCARTY DANNY J',\n",
       " 'MCCLELLAN GEORGE',\n",
       " 'MCCONNELL MICHAEL S',\n",
       " 'MCDONALD REBECCA',\n",
       " 'MCMAHON JEFFREY',\n",
       " 'MENDELSOHN JOHN',\n",
       " 'METTS MARK',\n",
       " 'MEYER JEROME J',\n",
       " 'MEYER ROCKFORD G',\n",
       " 'MORAN MICHAEL P',\n",
       " 'MORDAUNT KRISTINA M',\n",
       " 'MULLER MARK S',\n",
       " 'MURRAY JULIA H',\n",
       " 'NOLES JAMES L',\n",
       " 'OLSON CINDY K',\n",
       " 'OVERDYKE JR JERE C',\n",
       " 'PAI LOU L',\n",
       " 'PEREIRA PAULO V. FERRAZ',\n",
       " 'PICKERING MARK R',\n",
       " 'PIPER GREGORY F',\n",
       " 'PIRO JIM',\n",
       " 'POWERS WILLIAM',\n",
       " 'PRENTICE JAMES',\n",
       " 'REDMOND BRIAN L',\n",
       " 'REYNOLDS LAWRENCE',\n",
       " 'RICE KENNETH D',\n",
       " 'RIEKER PAULA H',\n",
       " 'SAVAGE FRANK',\n",
       " 'SCRIMSHAW MATTHEW',\n",
       " 'SHANKMAN JEFFREY A',\n",
       " 'SHAPIRO RICHARD S',\n",
       " 'SHARP VICTORIA T',\n",
       " 'SHELBY REX',\n",
       " 'SHERRICK JEFFREY B',\n",
       " 'SHERRIFF JOHN R',\n",
       " 'SKILLING JEFFREY K',\n",
       " 'STABLER FRANK',\n",
       " 'SULLIVAN-SHAKLOVITZ COLLEEN',\n",
       " 'SUNDE MARTIN',\n",
       " 'TAYLOR MITCHELL S',\n",
       " 'THE TRAVEL AGENCY IN THE PARK',\n",
       " 'THORN TERENCE H',\n",
       " 'TILNEY ELIZABETH A',\n",
       " 'TOTAL',\n",
       " 'UMANOFF ADAM S',\n",
       " 'URQUHART JOHN A',\n",
       " 'WAKEHAM JOHN',\n",
       " 'WALLS JR ROBERT H',\n",
       " 'WALTERS GARETH W',\n",
       " 'WASAFF GEORGE',\n",
       " 'WESTFAHL RICHARD K',\n",
       " 'WHALEY DAVID A',\n",
       " 'WHALLEY LAWRENCE G',\n",
       " 'WHITE JR THOMAS E',\n",
       " 'WINOKUR JR. HERBERT S',\n",
       " 'WODRASKA JOHN',\n",
       " 'WROBEL BRUCE',\n",
       " 'YEAGER F SCOTT',\n",
       " 'YEAP SOON']"
      ]
     },
     "execution_count": 132,
     "metadata": {},
     "output_type": "execute_result"
    }
   ],
   "source": [
    "sorted(enron_data.keys())"
   ]
  },
  {
   "cell_type": "code",
   "execution_count": 133,
   "metadata": {},
   "outputs": [
    {
     "data": {
      "text/plain": [
       "2424083"
      ]
     },
     "execution_count": 133,
     "metadata": {},
     "output_type": "execute_result"
    }
   ],
   "source": [
    "enron_data['FASTOW ANDREW S']['total_payments']"
   ]
  },
  {
   "cell_type": "code",
   "execution_count": 134,
   "metadata": {},
   "outputs": [
    {
     "data": {
      "text/plain": [
       "103559793"
      ]
     },
     "execution_count": 134,
     "metadata": {},
     "output_type": "execute_result"
    }
   ],
   "source": [
    "enron_data['LAY KENNETH L']['total_payments']"
   ]
  },
  {
   "cell_type": "code",
   "execution_count": 135,
   "metadata": {},
   "outputs": [
    {
     "data": {
      "text/plain": [
       "8682716"
      ]
     },
     "execution_count": 135,
     "metadata": {},
     "output_type": "execute_result"
    }
   ],
   "source": [
    "enron_data['SKILLING JEFFREY K']['total_payments']"
   ]
  },
  {
   "cell_type": "code",
   "execution_count": 31,
   "metadata": {},
   "outputs": [
    {
     "data": {
      "text/plain": [
       "{'METTS MARK': {'salary': 365788,\n",
       "  'to_messages': 807,\n",
       "  'deferral_payments': 'NaN',\n",
       "  'total_payments': 1061827,\n",
       "  'loan_advances': 'NaN',\n",
       "  'bonus': 600000,\n",
       "  'email_address': 'mark.metts@enron.com',\n",
       "  'restricted_stock_deferred': 'NaN',\n",
       "  'deferred_income': 'NaN',\n",
       "  'total_stock_value': 585062,\n",
       "  'expenses': 94299,\n",
       "  'from_poi_to_this_person': 38,\n",
       "  'exercised_stock_options': 'NaN',\n",
       "  'from_messages': 29,\n",
       "  'other': 1740,\n",
       "  'from_this_person_to_poi': 1,\n",
       "  'poi': False,\n",
       "  'long_term_incentive': 'NaN',\n",
       "  'shared_receipt_with_poi': 702,\n",
       "  'restricted_stock': 585062,\n",
       "  'director_fees': 'NaN'}}"
      ]
     },
     "execution_count": 31,
     "metadata": {},
     "output_type": "execute_result"
    }
   ],
   "source": [
    "import itertools\n",
    "data = dict(itertools.islice(enron_data.items(), 1))\n",
    "data"
   ]
  },
  {
   "cell_type": "code",
   "execution_count": 29,
   "metadata": {},
   "outputs": [
    {
     "data": {
      "text/plain": [
       "array([[3.6578800e+05, 6.0000000e+05, 0.0000000e+00],\n",
       "       [2.6710200e+05, 1.2000000e+06, 0.0000000e+00],\n",
       "       [1.7094100e+05, 3.5000000e+05, 0.0000000e+00],\n",
       "       [2.4329300e+05, 1.5000000e+06, 1.0000000e+00],\n",
       "       [2.6709300e+05, 3.2500000e+05, 0.0000000e+00],\n",
       "       [3.7044800e+05, 2.6000000e+06, 0.0000000e+00],\n",
       "       [3.7412500e+05, 1.1500000e+06, 0.0000000e+00],\n",
       "       [1.9709100e+05, 4.0000000e+05, 0.0000000e+00],\n",
       "       [1.3072400e+05, 0.0000000e+00, 0.0000000e+00],\n",
       "       [2.4854600e+05, 8.5000000e+05, 0.0000000e+00],\n",
       "       [2.5748600e+05, 7.0000000e+05, 0.0000000e+00],\n",
       "       [2.8854200e+05, 1.2000000e+06, 1.0000000e+00],\n",
       "       [2.5165400e+05, 1.1000000e+06, 0.0000000e+00],\n",
       "       [2.8855800e+05, 2.5000000e+05, 0.0000000e+00],\n",
       "       [6.3744000e+04, 0.0000000e+00, 0.0000000e+00],\n",
       "       [3.5709100e+05, 8.5000000e+05, 0.0000000e+00],\n",
       "       [2.7144200e+05, 3.1000000e+06, 0.0000000e+00],\n",
       "       [3.0411000e+05, 2.0000000e+06, 0.0000000e+00],\n",
       "       [1.8792200e+05, 2.5000000e+05, 0.0000000e+00],\n",
       "       [2.1362500e+05, 1.0000000e+06, 0.0000000e+00],\n",
       "       [2.4920100e+05, 7.0000000e+05, 1.0000000e+00],\n",
       "       [2.3133000e+05, 7.0000000e+05, 0.0000000e+00],\n",
       "       [1.8224500e+05, 2.0000000e+05, 0.0000000e+00],\n",
       "       [2.1178800e+05, 1.7000000e+06, 0.0000000e+00],\n",
       "       [2.2430500e+05, 8.0000000e+05, 1.0000000e+00],\n",
       "       [2.7374600e+05, 1.0000000e+06, 0.0000000e+00],\n",
       "       [3.3928800e+05, 8.0000000e+06, 0.0000000e+00],\n",
       "       [2.1658200e+05, 0.0000000e+00, 0.0000000e+00],\n",
       "       [2.1050000e+05, 4.2500000e+05, 0.0000000e+00],\n",
       "       [2.7288000e+05, 7.5000000e+05, 0.0000000e+00],\n",
       "       [4.7700000e+02, 0.0000000e+00, 0.0000000e+00],\n",
       "       [2.6907600e+05, 6.5000000e+05, 0.0000000e+00],\n",
       "       [4.2878000e+05, 1.5000000e+06, 0.0000000e+00],\n",
       "       [2.1184400e+05, 2.0000000e+05, 1.0000000e+00],\n",
       "       [2.0612100e+05, 6.0000000e+05, 0.0000000e+00],\n",
       "       [1.7424600e+05, 0.0000000e+00, 0.0000000e+00],\n",
       "       [5.1036400e+05, 3.0000000e+06, 0.0000000e+00],\n",
       "       [3.6503800e+05, 1.1000000e+06, 0.0000000e+00],\n",
       "       [3.6516300e+05, 3.0000000e+06, 1.0000000e+00],\n",
       "       [1.6277900e+05, 1.0000000e+05, 0.0000000e+00],\n",
       "       [2.3645700e+05, 2.0000000e+05, 0.0000000e+00],\n",
       "       [1.0723210e+06, 7.0000000e+06, 1.0000000e+00],\n",
       "       [2.6151600e+05, 7.5000000e+05, 0.0000000e+00],\n",
       "       [3.2907800e+05, 7.5000000e+05, 0.0000000e+00],\n",
       "       [1.8489900e+05, 3.2500000e+05, 0.0000000e+00],\n",
       "       [1.9200800e+05, 5.0987000e+05, 0.0000000e+00],\n",
       "       [2.6266300e+05, 7.0000000e+05, 0.0000000e+00],\n",
       "       [3.0458800e+05, 2.5000000e+06, 0.0000000e+00],\n",
       "       [2.7860100e+05, 1.3500000e+06, 1.0000000e+00],\n",
       "       [1.9915700e+05, 3.5000000e+05, 0.0000000e+00],\n",
       "       [9.6840000e+04, 0.0000000e+00, 0.0000000e+00],\n",
       "       [8.0818000e+04, 0.0000000e+00, 0.0000000e+00],\n",
       "       [2.1399900e+05, 5.2499990e+06, 1.0000000e+00],\n",
       "       [2.6278800e+05, 1.0000000e+06, 0.0000000e+00],\n",
       "       [2.1069200e+05, 7.5000000e+05, 0.0000000e+00],\n",
       "       [2.2209300e+05, 0.0000000e+00, 0.0000000e+00],\n",
       "       [4.4069800e+05, 1.3000000e+06, 1.0000000e+00],\n",
       "       [2.4018900e+05, 1.2500000e+06, 1.0000000e+00],\n",
       "       [4.2063600e+05, 1.7500000e+06, 1.0000000e+00],\n",
       "       [2.7510100e+05, 4.0000000e+05, 0.0000000e+00],\n",
       "       [3.1428800e+05, 8.0000000e+05, 0.0000000e+00],\n",
       "       [9.4941000e+04, 0.0000000e+00, 0.0000000e+00],\n",
       "       [2.3950200e+05, 5.0000000e+05, 0.0000000e+00],\n",
       "       [1.1112580e+06, 5.6000000e+06, 1.0000000e+00],\n",
       "       [6.6150000e+03, 0.0000000e+00, 0.0000000e+00],\n",
       "       [2.8858900e+05, 7.8875000e+05, 0.0000000e+00],\n",
       "       [4.0433800e+05, 1.0000000e+06, 0.0000000e+00],\n",
       "       [2.6704229e+07, 9.7343619e+07, 0.0000000e+00],\n",
       "       [2.5999600e+05, 3.2500000e+05, 0.0000000e+00],\n",
       "       [3.1754300e+05, 4.5000000e+05, 0.0000000e+00],\n",
       "       [2.0195500e+05, 4.1750000e+06, 0.0000000e+00],\n",
       "       [2.4814600e+05, 6.0000000e+05, 0.0000000e+00],\n",
       "       [2.6341300e+05, 9.0000000e+05, 0.0000000e+00],\n",
       "       [7.6399000e+04, 1.0000000e+05, 0.0000000e+00],\n",
       "       [6.5503700e+05, 3.0000000e+05, 0.0000000e+00],\n",
       "       [2.6180900e+05, 3.0000000e+05, 0.0000000e+00],\n",
       "       [2.4801700e+05, 5.0000000e+05, 0.0000000e+00],\n",
       "       [2.2928400e+05, 4.0000000e+05, 0.0000000e+00],\n",
       "       [2.3194600e+05, 8.5000000e+05, 0.0000000e+00],\n",
       "       [2.2100300e+05, 7.0000000e+04, 0.0000000e+00],\n",
       "       [1.5840300e+05, 0.0000000e+00, 1.0000000e+00],\n",
       "       [0.0000000e+00, 0.0000000e+00, 1.0000000e+00],\n",
       "       [2.5010000e+05, 6.0000000e+05, 0.0000000e+00],\n",
       "       [4.9237500e+05, 8.0000000e+05, 0.0000000e+00],\n",
       "       [1.0609320e+06, 2.0000000e+06, 0.0000000e+00],\n",
       "       [2.6187900e+05, 1.0000000e+06, 0.0000000e+00],\n",
       "       [2.3967100e+05, 4.0000000e+05, 0.0000000e+00],\n",
       "       [3.0994600e+05, 7.0000000e+05, 1.0000000e+00],\n",
       "       [8.5274000e+04, 0.0000000e+00, 0.0000000e+00],\n",
       "       [2.4733800e+05, 3.0000000e+05, 0.0000000e+00],\n",
       "       [3.4948700e+05, 0.0000000e+00, 0.0000000e+00],\n",
       "       [3.3054600e+05, 9.0000000e+05, 0.0000000e+00],\n",
       "       [4.1518900e+05, 1.0000000e+06, 1.0000000e+00],\n",
       "       [2.6521400e+05, 6.0000000e+05, 0.0000000e+00],\n",
       "       [2.7860100e+05, 8.0000000e+05, 0.0000000e+00],\n",
       "       [2.7497500e+05, 6.0000000e+05, 1.0000000e+00]])"
      ]
     },
     "execution_count": 29,
     "metadata": {},
     "output_type": "execute_result"
    }
   ],
   "source": [
    "import sys\n",
    "sys.path.append('../tools/')\n",
    "from feature_format import featureFormat,targetFeatureSplit\n",
    "feature_list = [\"salary\",\"bonus\",\"poi\"] \n",
    "data_array = featureFormat(enron_data, feature_list)\n",
    "data_array"
   ]
  },
  {
   "cell_type": "code",
   "execution_count": null,
   "metadata": {},
   "outputs": [],
   "source": []
  }
 ],
 "metadata": {
  "kernelspec": {
   "display_name": "Python 3",
   "language": "python",
   "name": "python3"
  },
  "language_info": {
   "codemirror_mode": {
    "name": "ipython",
    "version": 3
   },
   "file_extension": ".py",
   "mimetype": "text/x-python",
   "name": "python",
   "nbconvert_exporter": "python",
   "pygments_lexer": "ipython3",
   "version": "3.7.6"
  }
 },
 "nbformat": 4,
 "nbformat_minor": 4
}
