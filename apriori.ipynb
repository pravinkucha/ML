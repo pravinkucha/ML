{
  "nbformat": 4,
  "nbformat_minor": 0,
  "metadata": {
    "colab": {
      "name": "apriori",
      "provenance": [],
      "collapsed_sections": [],
      "authorship_tag": "ABX9TyMBlxuozlYbIhQcherq9+a5",
      "include_colab_link": true
    },
    "kernelspec": {
      "name": "python3",
      "display_name": "Python 3"
    }
  },
  "cells": [
    {
      "cell_type": "markdown",
      "metadata": {
        "id": "view-in-github",
        "colab_type": "text"
      },
      "source": [
        "<a href=\"https://colab.research.google.com/github/pravinkucha/ML/blob/master/apriori.ipynb\" target=\"_parent\"><img src=\"https://colab.research.google.com/assets/colab-badge.svg\" alt=\"Open In Colab\"/></a>"
      ]
    },
    {
      "cell_type": "code",
      "metadata": {
        "id": "ktF6rDEtfqFV",
        "colab_type": "code",
        "colab": {
          "resources": {
            "http://localhost:8080/nbextensions/google.colab/files.js": {
              "data": "Ly8gQ29weXJpZ2h0IDIwMTcgR29vZ2xlIExMQwovLwovLyBMaWNlbnNlZCB1bmRlciB0aGUgQXBhY2hlIExpY2Vuc2UsIFZlcnNpb24gMi4wICh0aGUgIkxpY2Vuc2UiKTsKLy8geW91IG1heSBub3QgdXNlIHRoaXMgZmlsZSBleGNlcHQgaW4gY29tcGxpYW5jZSB3aXRoIHRoZSBMaWNlbnNlLgovLyBZb3UgbWF5IG9idGFpbiBhIGNvcHkgb2YgdGhlIExpY2Vuc2UgYXQKLy8KLy8gICAgICBodHRwOi8vd3d3LmFwYWNoZS5vcmcvbGljZW5zZXMvTElDRU5TRS0yLjAKLy8KLy8gVW5sZXNzIHJlcXVpcmVkIGJ5IGFwcGxpY2FibGUgbGF3IG9yIGFncmVlZCB0byBpbiB3cml0aW5nLCBzb2Z0d2FyZQovLyBkaXN0cmlidXRlZCB1bmRlciB0aGUgTGljZW5zZSBpcyBkaXN0cmlidXRlZCBvbiBhbiAiQVMgSVMiIEJBU0lTLAovLyBXSVRIT1VUIFdBUlJBTlRJRVMgT1IgQ09ORElUSU9OUyBPRiBBTlkgS0lORCwgZWl0aGVyIGV4cHJlc3Mgb3IgaW1wbGllZC4KLy8gU2VlIHRoZSBMaWNlbnNlIGZvciB0aGUgc3BlY2lmaWMgbGFuZ3VhZ2UgZ292ZXJuaW5nIHBlcm1pc3Npb25zIGFuZAovLyBsaW1pdGF0aW9ucyB1bmRlciB0aGUgTGljZW5zZS4KCi8qKgogKiBAZmlsZW92ZXJ2aWV3IEhlbHBlcnMgZm9yIGdvb2dsZS5jb2xhYiBQeXRob24gbW9kdWxlLgogKi8KKGZ1bmN0aW9uKHNjb3BlKSB7CmZ1bmN0aW9uIHNwYW4odGV4dCwgc3R5bGVBdHRyaWJ1dGVzID0ge30pIHsKICBjb25zdCBlbGVtZW50ID0gZG9jdW1lbnQuY3JlYXRlRWxlbWVudCgnc3BhbicpOwogIGVsZW1lbnQudGV4dENvbnRlbnQgPSB0ZXh0OwogIGZvciAoY29uc3Qga2V5IG9mIE9iamVjdC5rZXlzKHN0eWxlQXR0cmlidXRlcykpIHsKICAgIGVsZW1lbnQuc3R5bGVba2V5XSA9IHN0eWxlQXR0cmlidXRlc1trZXldOwogIH0KICByZXR1cm4gZWxlbWVudDsKfQoKLy8gTWF4IG51bWJlciBvZiBieXRlcyB3aGljaCB3aWxsIGJlIHVwbG9hZGVkIGF0IGEgdGltZS4KY29uc3QgTUFYX1BBWUxPQURfU0laRSA9IDEwMCAqIDEwMjQ7Ci8vIE1heCBhbW91bnQgb2YgdGltZSB0byBibG9jayB3YWl0aW5nIGZvciB0aGUgdXNlci4KY29uc3QgRklMRV9DSEFOR0VfVElNRU9VVF9NUyA9IDMwICogMTAwMDsKCmZ1bmN0aW9uIF91cGxvYWRGaWxlcyhpbnB1dElkLCBvdXRwdXRJZCkgewogIGNvbnN0IHN0ZXBzID0gdXBsb2FkRmlsZXNTdGVwKGlucHV0SWQsIG91dHB1dElkKTsKICBjb25zdCBvdXRwdXRFbGVtZW50ID0gZG9jdW1lbnQuZ2V0RWxlbWVudEJ5SWQob3V0cHV0SWQpOwogIC8vIENhY2hlIHN0ZXBzIG9uIHRoZSBvdXRwdXRFbGVtZW50IHRvIG1ha2UgaXQgYXZhaWxhYmxlIGZvciB0aGUgbmV4dCBjYWxsCiAgLy8gdG8gdXBsb2FkRmlsZXNDb250aW51ZSBmcm9tIFB5dGhvbi4KICBvdXRwdXRFbGVtZW50LnN0ZXBzID0gc3RlcHM7CgogIHJldHVybiBfdXBsb2FkRmlsZXNDb250aW51ZShvdXRwdXRJZCk7Cn0KCi8vIFRoaXMgaXMgcm91Z2hseSBhbiBhc3luYyBnZW5lcmF0b3IgKG5vdCBzdXBwb3J0ZWQgaW4gdGhlIGJyb3dzZXIgeWV0KSwKLy8gd2hlcmUgdGhlcmUgYXJlIG11bHRpcGxlIGFzeW5jaHJvbm91cyBzdGVwcyBhbmQgdGhlIFB5dGhvbiBzaWRlIGlzIGdvaW5nCi8vIHRvIHBvbGwgZm9yIGNvbXBsZXRpb24gb2YgZWFjaCBzdGVwLgovLyBUaGlzIHVzZXMgYSBQcm9taXNlIHRvIGJsb2NrIHRoZSBweXRob24gc2lkZSBvbiBjb21wbGV0aW9uIG9mIGVhY2ggc3RlcCwKLy8gdGhlbiBwYXNzZXMgdGhlIHJlc3VsdCBvZiB0aGUgcHJldmlvdXMgc3RlcCBhcyB0aGUgaW5wdXQgdG8gdGhlIG5leHQgc3RlcC4KZnVuY3Rpb24gX3VwbG9hZEZpbGVzQ29udGludWUob3V0cHV0SWQpIHsKICBjb25zdCBvdXRwdXRFbGVtZW50ID0gZG9jdW1lbnQuZ2V0RWxlbWVudEJ5SWQob3V0cHV0SWQpOwogIGNvbnN0IHN0ZXBzID0gb3V0cHV0RWxlbWVudC5zdGVwczsKCiAgY29uc3QgbmV4dCA9IHN0ZXBzLm5leHQob3V0cHV0RWxlbWVudC5sYXN0UHJvbWlzZVZhbHVlKTsKICByZXR1cm4gUHJvbWlzZS5yZXNvbHZlKG5leHQudmFsdWUucHJvbWlzZSkudGhlbigodmFsdWUpID0+IHsKICAgIC8vIENhY2hlIHRoZSBsYXN0IHByb21pc2UgdmFsdWUgdG8gbWFrZSBpdCBhdmFpbGFibGUgdG8gdGhlIG5leHQKICAgIC8vIHN0ZXAgb2YgdGhlIGdlbmVyYXRvci4KICAgIG91dHB1dEVsZW1lbnQubGFzdFByb21pc2VWYWx1ZSA9IHZhbHVlOwogICAgcmV0dXJuIG5leHQudmFsdWUucmVzcG9uc2U7CiAgfSk7Cn0KCi8qKgogKiBHZW5lcmF0b3IgZnVuY3Rpb24gd2hpY2ggaXMgY2FsbGVkIGJldHdlZW4gZWFjaCBhc3luYyBzdGVwIG9mIHRoZSB1cGxvYWQKICogcHJvY2Vzcy4KICogQHBhcmFtIHtzdHJpbmd9IGlucHV0SWQgRWxlbWVudCBJRCBvZiB0aGUgaW5wdXQgZmlsZSBwaWNrZXIgZWxlbWVudC4KICogQHBhcmFtIHtzdHJpbmd9IG91dHB1dElkIEVsZW1lbnQgSUQgb2YgdGhlIG91dHB1dCBkaXNwbGF5LgogKiBAcmV0dXJuIHshSXRlcmFibGU8IU9iamVjdD59IEl0ZXJhYmxlIG9mIG5leHQgc3RlcHMuCiAqLwpmdW5jdGlvbiogdXBsb2FkRmlsZXNTdGVwKGlucHV0SWQsIG91dHB1dElkKSB7CiAgY29uc3QgaW5wdXRFbGVtZW50ID0gZG9jdW1lbnQuZ2V0RWxlbWVudEJ5SWQoaW5wdXRJZCk7CiAgaW5wdXRFbGVtZW50LmRpc2FibGVkID0gZmFsc2U7CgogIGNvbnN0IG91dHB1dEVsZW1lbnQgPSBkb2N1bWVudC5nZXRFbGVtZW50QnlJZChvdXRwdXRJZCk7CiAgb3V0cHV0RWxlbWVudC5pbm5lckhUTUwgPSAnJzsKCiAgY29uc3QgcGlja2VkUHJvbWlzZSA9IG5ldyBQcm9taXNlKChyZXNvbHZlKSA9PiB7CiAgICBpbnB1dEVsZW1lbnQuYWRkRXZlbnRMaXN0ZW5lcignY2hhbmdlJywgKGUpID0+IHsKICAgICAgcmVzb2x2ZShlLnRhcmdldC5maWxlcyk7CiAgICB9KTsKICB9KTsKCiAgY29uc3QgY2FuY2VsID0gZG9jdW1lbnQuY3JlYXRlRWxlbWVudCgnYnV0dG9uJyk7CiAgaW5wdXRFbGVtZW50LnBhcmVudEVsZW1lbnQuYXBwZW5kQ2hpbGQoY2FuY2VsKTsKICBjYW5jZWwudGV4dENvbnRlbnQgPSAnQ2FuY2VsIHVwbG9hZCc7CiAgY29uc3QgY2FuY2VsUHJvbWlzZSA9IG5ldyBQcm9taXNlKChyZXNvbHZlKSA9PiB7CiAgICBjYW5jZWwub25jbGljayA9ICgpID0+IHsKICAgICAgcmVzb2x2ZShudWxsKTsKICAgIH07CiAgfSk7CgogIC8vIENhbmNlbCB1cGxvYWQgaWYgdXNlciBoYXNuJ3QgcGlja2VkIGFueXRoaW5nIGluIHRpbWVvdXQuCiAgY29uc3QgdGltZW91dFByb21pc2UgPSBuZXcgUHJvbWlzZSgocmVzb2x2ZSkgPT4gewogICAgc2V0VGltZW91dCgoKSA9PiB7CiAgICAgIHJlc29sdmUobnVsbCk7CiAgICB9LCBGSUxFX0NIQU5HRV9USU1FT1VUX01TKTsKICB9KTsKCiAgLy8gV2FpdCBmb3IgdGhlIHVzZXIgdG8gcGljayB0aGUgZmlsZXMuCiAgY29uc3QgZmlsZXMgPSB5aWVsZCB7CiAgICBwcm9taXNlOiBQcm9taXNlLnJhY2UoW3BpY2tlZFByb21pc2UsIHRpbWVvdXRQcm9taXNlLCBjYW5jZWxQcm9taXNlXSksCiAgICByZXNwb25zZTogewogICAgICBhY3Rpb246ICdzdGFydGluZycsCiAgICB9CiAgfTsKCiAgaWYgKCFmaWxlcykgewogICAgcmV0dXJuIHsKICAgICAgcmVzcG9uc2U6IHsKICAgICAgICBhY3Rpb246ICdjb21wbGV0ZScsCiAgICAgIH0KICAgIH07CiAgfQoKICBjYW5jZWwucmVtb3ZlKCk7CgogIC8vIERpc2FibGUgdGhlIGlucHV0IGVsZW1lbnQgc2luY2UgZnVydGhlciBwaWNrcyBhcmUgbm90IGFsbG93ZWQuCiAgaW5wdXRFbGVtZW50LmRpc2FibGVkID0gdHJ1ZTsKCiAgZm9yIChjb25zdCBmaWxlIG9mIGZpbGVzKSB7CiAgICBjb25zdCBsaSA9IGRvY3VtZW50LmNyZWF0ZUVsZW1lbnQoJ2xpJyk7CiAgICBsaS5hcHBlbmQoc3BhbihmaWxlLm5hbWUsIHtmb250V2VpZ2h0OiAnYm9sZCd9KSk7CiAgICBsaS5hcHBlbmQoc3BhbigKICAgICAgICBgKCR7ZmlsZS50eXBlIHx8ICduL2EnfSkgLSAke2ZpbGUuc2l6ZX0gYnl0ZXMsIGAgKwogICAgICAgIGBsYXN0IG1vZGlmaWVkOiAkewogICAgICAgICAgICBmaWxlLmxhc3RNb2RpZmllZERhdGUgPyBmaWxlLmxhc3RNb2RpZmllZERhdGUudG9Mb2NhbGVEYXRlU3RyaW5nKCkgOgogICAgICAgICAgICAgICAgICAgICAgICAgICAgICAgICAgICAnbi9hJ30gLSBgKSk7CiAgICBjb25zdCBwZXJjZW50ID0gc3BhbignMCUgZG9uZScpOwogICAgbGkuYXBwZW5kQ2hpbGQocGVyY2VudCk7CgogICAgb3V0cHV0RWxlbWVudC5hcHBlbmRDaGlsZChsaSk7CgogICAgY29uc3QgZmlsZURhdGFQcm9taXNlID0gbmV3IFByb21pc2UoKHJlc29sdmUpID0+IHsKICAgICAgY29uc3QgcmVhZGVyID0gbmV3IEZpbGVSZWFkZXIoKTsKICAgICAgcmVhZGVyLm9ubG9hZCA9IChlKSA9PiB7CiAgICAgICAgcmVzb2x2ZShlLnRhcmdldC5yZXN1bHQpOwogICAgICB9OwogICAgICByZWFkZXIucmVhZEFzQXJyYXlCdWZmZXIoZmlsZSk7CiAgICB9KTsKICAgIC8vIFdhaXQgZm9yIHRoZSBkYXRhIHRvIGJlIHJlYWR5LgogICAgbGV0IGZpbGVEYXRhID0geWllbGQgewogICAgICBwcm9taXNlOiBmaWxlRGF0YVByb21pc2UsCiAgICAgIHJlc3BvbnNlOiB7CiAgICAgICAgYWN0aW9uOiAnY29udGludWUnLAogICAgICB9CiAgICB9OwoKICAgIC8vIFVzZSBhIGNodW5rZWQgc2VuZGluZyB0byBhdm9pZCBtZXNzYWdlIHNpemUgbGltaXRzLiBTZWUgYi82MjExNTY2MC4KICAgIGxldCBwb3NpdGlvbiA9IDA7CiAgICB3aGlsZSAocG9zaXRpb24gPCBmaWxlRGF0YS5ieXRlTGVuZ3RoKSB7CiAgICAgIGNvbnN0IGxlbmd0aCA9IE1hdGgubWluKGZpbGVEYXRhLmJ5dGVMZW5ndGggLSBwb3NpdGlvbiwgTUFYX1BBWUxPQURfU0laRSk7CiAgICAgIGNvbnN0IGNodW5rID0gbmV3IFVpbnQ4QXJyYXkoZmlsZURhdGEsIHBvc2l0aW9uLCBsZW5ndGgpOwogICAgICBwb3NpdGlvbiArPSBsZW5ndGg7CgogICAgICBjb25zdCBiYXNlNjQgPSBidG9hKFN0cmluZy5mcm9tQ2hhckNvZGUuYXBwbHkobnVsbCwgY2h1bmspKTsKICAgICAgeWllbGQgewogICAgICAgIHJlc3BvbnNlOiB7CiAgICAgICAgICBhY3Rpb246ICdhcHBlbmQnLAogICAgICAgICAgZmlsZTogZmlsZS5uYW1lLAogICAgICAgICAgZGF0YTogYmFzZTY0LAogICAgICAgIH0sCiAgICAgIH07CiAgICAgIHBlcmNlbnQudGV4dENvbnRlbnQgPQogICAgICAgICAgYCR7TWF0aC5yb3VuZCgocG9zaXRpb24gLyBmaWxlRGF0YS5ieXRlTGVuZ3RoKSAqIDEwMCl9JSBkb25lYDsKICAgIH0KICB9CgogIC8vIEFsbCBkb25lLgogIHlpZWxkIHsKICAgIHJlc3BvbnNlOiB7CiAgICAgIGFjdGlvbjogJ2NvbXBsZXRlJywKICAgIH0KICB9Owp9CgpzY29wZS5nb29nbGUgPSBzY29wZS5nb29nbGUgfHwge307CnNjb3BlLmdvb2dsZS5jb2xhYiA9IHNjb3BlLmdvb2dsZS5jb2xhYiB8fCB7fTsKc2NvcGUuZ29vZ2xlLmNvbGFiLl9maWxlcyA9IHsKICBfdXBsb2FkRmlsZXMsCiAgX3VwbG9hZEZpbGVzQ29udGludWUsCn07Cn0pKHNlbGYpOwo=",
              "ok": true,
              "headers": [
                [
                  "content-type",
                  "application/javascript"
                ]
              ],
              "status": 200,
              "status_text": ""
            }
          },
          "base_uri": "https://localhost:8080/",
          "height": 91
        },
        "outputId": "cfae588e-98b5-4bc3-f7dc-f15f45557a6f"
      },
      "source": [
        "#!pip install apyori\n",
        "from google.colab import files\n",
        "\n",
        "uploaded = files.upload()\n",
        "\n",
        "for fn in uploaded.keys():\n",
        "  print('User uploaded file \"{name}\" with length {length} bytes'.format(\n",
        "      name=fn, length=len(uploaded[fn])))\n",
        "  "
      ],
      "execution_count": 3,
      "outputs": [
        {
          "output_type": "display_data",
          "data": {
            "text/html": [
              "\n",
              "     <input type=\"file\" id=\"files-b947188d-a717-4711-b74c-0fba9a615a2a\" name=\"files[]\" multiple disabled />\n",
              "     <output id=\"result-b947188d-a717-4711-b74c-0fba9a615a2a\">\n",
              "      Upload widget is only available when the cell has been executed in the\n",
              "      current browser session. Please rerun this cell to enable.\n",
              "      </output>\n",
              "      <script src=\"/nbextensions/google.colab/files.js\"></script> "
            ],
            "text/plain": [
              "<IPython.core.display.HTML object>"
            ]
          },
          "metadata": {
            "tags": []
          }
        },
        {
          "output_type": "stream",
          "text": [
            "Saving Market.csv to Market.csv\n",
            "User uploaded file \"Market.csv\" with length 302908 bytes\n"
          ],
          "name": "stdout"
        }
      ]
    },
    {
      "cell_type": "code",
      "metadata": {
        "id": "e7O4APyufwGu",
        "colab_type": "code",
        "colab": {
          "base_uri": "https://localhost:8080/",
          "height": 275
        },
        "outputId": "9fc5b9d3-ecc0-4738-8ce9-970d78949f33"
      },
      "source": [
        "import numpy as np\n",
        "import pandas as pd\n",
        "import io\n",
        "data = pd.read_csv(io.StringIO(uploaded['Market.csv'].decode('utf-8')), header = None)\n",
        "data.head()"
      ],
      "execution_count": 21,
      "outputs": [
        {
          "output_type": "execute_result",
          "data": {
            "text/html": [
              "<div>\n",
              "<style scoped>\n",
              "    .dataframe tbody tr th:only-of-type {\n",
              "        vertical-align: middle;\n",
              "    }\n",
              "\n",
              "    .dataframe tbody tr th {\n",
              "        vertical-align: top;\n",
              "    }\n",
              "\n",
              "    .dataframe thead th {\n",
              "        text-align: right;\n",
              "    }\n",
              "</style>\n",
              "<table border=\"1\" class=\"dataframe\">\n",
              "  <thead>\n",
              "    <tr style=\"text-align: right;\">\n",
              "      <th></th>\n",
              "      <th>0</th>\n",
              "      <th>1</th>\n",
              "      <th>2</th>\n",
              "      <th>3</th>\n",
              "      <th>4</th>\n",
              "      <th>5</th>\n",
              "      <th>6</th>\n",
              "      <th>7</th>\n",
              "      <th>8</th>\n",
              "      <th>9</th>\n",
              "      <th>10</th>\n",
              "      <th>11</th>\n",
              "      <th>12</th>\n",
              "      <th>13</th>\n",
              "      <th>14</th>\n",
              "      <th>15</th>\n",
              "      <th>16</th>\n",
              "      <th>17</th>\n",
              "      <th>18</th>\n",
              "      <th>19</th>\n",
              "    </tr>\n",
              "  </thead>\n",
              "  <tbody>\n",
              "    <tr>\n",
              "      <th>0</th>\n",
              "      <td>shrimp</td>\n",
              "      <td>almonds</td>\n",
              "      <td>avocado</td>\n",
              "      <td>vegetables mix</td>\n",
              "      <td>green grapes</td>\n",
              "      <td>whole weat flour</td>\n",
              "      <td>yams</td>\n",
              "      <td>cottage cheese</td>\n",
              "      <td>energy drink</td>\n",
              "      <td>tomato juice</td>\n",
              "      <td>low fat yogurt</td>\n",
              "      <td>green tea</td>\n",
              "      <td>honey</td>\n",
              "      <td>salad</td>\n",
              "      <td>mineral water</td>\n",
              "      <td>salmon</td>\n",
              "      <td>antioxydant juice</td>\n",
              "      <td>frozen smoothie</td>\n",
              "      <td>spinach</td>\n",
              "      <td>olive oil</td>\n",
              "    </tr>\n",
              "    <tr>\n",
              "      <th>1</th>\n",
              "      <td>burgers</td>\n",
              "      <td>meatballs</td>\n",
              "      <td>eggs</td>\n",
              "      <td>NaN</td>\n",
              "      <td>NaN</td>\n",
              "      <td>NaN</td>\n",
              "      <td>NaN</td>\n",
              "      <td>NaN</td>\n",
              "      <td>NaN</td>\n",
              "      <td>NaN</td>\n",
              "      <td>NaN</td>\n",
              "      <td>NaN</td>\n",
              "      <td>NaN</td>\n",
              "      <td>NaN</td>\n",
              "      <td>NaN</td>\n",
              "      <td>NaN</td>\n",
              "      <td>NaN</td>\n",
              "      <td>NaN</td>\n",
              "      <td>NaN</td>\n",
              "      <td>NaN</td>\n",
              "    </tr>\n",
              "    <tr>\n",
              "      <th>2</th>\n",
              "      <td>chutney</td>\n",
              "      <td>NaN</td>\n",
              "      <td>NaN</td>\n",
              "      <td>NaN</td>\n",
              "      <td>NaN</td>\n",
              "      <td>NaN</td>\n",
              "      <td>NaN</td>\n",
              "      <td>NaN</td>\n",
              "      <td>NaN</td>\n",
              "      <td>NaN</td>\n",
              "      <td>NaN</td>\n",
              "      <td>NaN</td>\n",
              "      <td>NaN</td>\n",
              "      <td>NaN</td>\n",
              "      <td>NaN</td>\n",
              "      <td>NaN</td>\n",
              "      <td>NaN</td>\n",
              "      <td>NaN</td>\n",
              "      <td>NaN</td>\n",
              "      <td>NaN</td>\n",
              "    </tr>\n",
              "    <tr>\n",
              "      <th>3</th>\n",
              "      <td>turkey</td>\n",
              "      <td>avocado</td>\n",
              "      <td>NaN</td>\n",
              "      <td>NaN</td>\n",
              "      <td>NaN</td>\n",
              "      <td>NaN</td>\n",
              "      <td>NaN</td>\n",
              "      <td>NaN</td>\n",
              "      <td>NaN</td>\n",
              "      <td>NaN</td>\n",
              "      <td>NaN</td>\n",
              "      <td>NaN</td>\n",
              "      <td>NaN</td>\n",
              "      <td>NaN</td>\n",
              "      <td>NaN</td>\n",
              "      <td>NaN</td>\n",
              "      <td>NaN</td>\n",
              "      <td>NaN</td>\n",
              "      <td>NaN</td>\n",
              "      <td>NaN</td>\n",
              "    </tr>\n",
              "    <tr>\n",
              "      <th>4</th>\n",
              "      <td>mineral water</td>\n",
              "      <td>milk</td>\n",
              "      <td>energy bar</td>\n",
              "      <td>whole wheat rice</td>\n",
              "      <td>green tea</td>\n",
              "      <td>NaN</td>\n",
              "      <td>NaN</td>\n",
              "      <td>NaN</td>\n",
              "      <td>NaN</td>\n",
              "      <td>NaN</td>\n",
              "      <td>NaN</td>\n",
              "      <td>NaN</td>\n",
              "      <td>NaN</td>\n",
              "      <td>NaN</td>\n",
              "      <td>NaN</td>\n",
              "      <td>NaN</td>\n",
              "      <td>NaN</td>\n",
              "      <td>NaN</td>\n",
              "      <td>NaN</td>\n",
              "      <td>NaN</td>\n",
              "    </tr>\n",
              "  </tbody>\n",
              "</table>\n",
              "</div>"
            ],
            "text/plain": [
              "              0          1           2   ...               17       18         19\n",
              "0         shrimp    almonds     avocado  ...  frozen smoothie  spinach  olive oil\n",
              "1        burgers  meatballs        eggs  ...              NaN      NaN        NaN\n",
              "2        chutney        NaN         NaN  ...              NaN      NaN        NaN\n",
              "3         turkey    avocado         NaN  ...              NaN      NaN        NaN\n",
              "4  mineral water       milk  energy bar  ...              NaN      NaN        NaN\n",
              "\n",
              "[5 rows x 20 columns]"
            ]
          },
          "metadata": {
            "tags": []
          },
          "execution_count": 21
        }
      ]
    },
    {
      "cell_type": "code",
      "metadata": {
        "id": "9UFnpaLagi7C",
        "colab_type": "code",
        "colab": {}
      },
      "source": [
        "transactions = []\n",
        "for i in range(0,len(data)):\n",
        "  transactions.append([str(data.values[i,j]) for j in range(0,len(data.values[i]))])  "
      ],
      "execution_count": 0,
      "outputs": []
    },
    {
      "cell_type": "code",
      "metadata": {
        "id": "Aq627p9FhL9j",
        "colab_type": "code",
        "colab": {}
      },
      "source": [
        "#Apply logic to Apriori\n",
        "from apyori import apriori\n",
        "rules = apriori(transactions,min_support=0.003,min_confidence=0.2,min_lift=3,min_length=3)"
      ],
      "execution_count": 0,
      "outputs": []
    },
    {
      "cell_type": "code",
      "metadata": {
        "id": "7Qi3Uf1Sk6qx",
        "colab_type": "code",
        "colab": {}
      },
      "source": [
        "# Visualising the results\n",
        "MB = list(rules)\n",
        "Result = [list(MB[i][0]) for i in range(0,len(MB))]"
      ],
      "execution_count": 0,
      "outputs": []
    },
    {
      "cell_type": "code",
      "metadata": {
        "id": "s9FKxEhSlAGs",
        "colab_type": "code",
        "colab": {
          "base_uri": "https://localhost:8080/",
          "height": 1000
        },
        "outputId": "e4129c4f-c046-4401-f45a-7e77fa273c5e"
      },
      "source": [
        "Result"
      ],
      "execution_count": 26,
      "outputs": [
        {
          "output_type": "execute_result",
          "data": {
            "text/plain": [
              "[['chicken', 'light cream'],\n",
              " ['mushroom cream sauce', 'escalope'],\n",
              " ['pasta', 'escalope'],\n",
              " ['honey', 'fromage blanc'],\n",
              " ['ground beef', 'herb & pepper'],\n",
              " ['ground beef', 'tomato sauce'],\n",
              " ['olive oil', 'light cream'],\n",
              " ['olive oil', 'whole wheat pasta'],\n",
              " ['shrimp', 'pasta'],\n",
              " ['spaghetti', 'avocado', 'milk'],\n",
              " ['milk', 'cake', 'burgers'],\n",
              " ['chocolate', 'turkey', 'burgers'],\n",
              " ['milk', 'turkey', 'burgers'],\n",
              " ['frozen vegetables', 'cake', 'tomatoes'],\n",
              " ['spaghetti', 'ground beef', 'cereals'],\n",
              " ['chicken', 'ground beef', 'milk'],\n",
              " ['chicken', 'nan', 'light cream'],\n",
              " ['chicken', 'olive oil', 'milk'],\n",
              " ['chicken', 'spaghetti', 'olive oil'],\n",
              " ['frozen vegetables', 'chocolate', 'shrimp'],\n",
              " ['chocolate', 'ground beef', 'herb & pepper'],\n",
              " ['chocolate', 'soup', 'milk'],\n",
              " ['cooking oil', 'spaghetti', 'ground beef'],\n",
              " ['herb & pepper', 'ground beef', 'eggs'],\n",
              " ['red wine', 'spaghetti', 'eggs'],\n",
              " ['mushroom cream sauce', 'nan', 'escalope'],\n",
              " ['pasta', 'nan', 'escalope'],\n",
              " ['herb & pepper', 'ground beef', 'french fries'],\n",
              " ['nan', 'honey', 'fromage blanc'],\n",
              " ['frozen vegetables', 'tomatoes', 'green tea'],\n",
              " ['frozen vegetables', 'spaghetti', 'ground beef'],\n",
              " ['frozen vegetables', 'olive oil', 'milk'],\n",
              " ['frozen vegetables', 'soup', 'milk'],\n",
              " ['frozen vegetables', 'tomatoes', 'milk'],\n",
              " ['frozen vegetables', 'mineral water', 'shrimp'],\n",
              " ['frozen vegetables', 'spaghetti', 'olive oil'],\n",
              " ['frozen vegetables', 'shrimp', 'spaghetti'],\n",
              " ['frozen vegetables', 'shrimp', 'tomatoes'],\n",
              " ['frozen vegetables', 'spaghetti', 'tomatoes'],\n",
              " ['spaghetti', 'ground beef', 'grated cheese'],\n",
              " ['tomatoes', 'ground beef', 'green tea'],\n",
              " ['milk', 'ground beef', 'herb & pepper'],\n",
              " ['mineral water', 'ground beef', 'herb & pepper'],\n",
              " ['nan', 'ground beef', 'herb & pepper'],\n",
              " ['spaghetti', 'ground beef', 'herb & pepper'],\n",
              " ['olive oil', 'ground beef', 'milk'],\n",
              " ['ground beef', 'soup', 'milk'],\n",
              " ['nan', 'ground beef', 'tomato sauce'],\n",
              " ['pepper', 'spaghetti', 'ground beef'],\n",
              " ['shrimp', 'ground beef', 'spaghetti'],\n",
              " ['spaghetti', 'ground beef', 'tomato sauce'],\n",
              " ['mineral water', 'spaghetti', 'light cream'],\n",
              " ['olive oil', 'nan', 'light cream'],\n",
              " ['shrimp', 'olive oil', 'milk'],\n",
              " ['olive oil', 'soup', 'milk'],\n",
              " ['spaghetti', 'olive oil', 'milk'],\n",
              " ['tomatoes', 'soup', 'milk'],\n",
              " ['spaghetti', 'whole wheat pasta', 'milk'],\n",
              " ['mineral water', 'olive oil', 'soup'],\n",
              " ['mineral water', 'olive oil', 'whole wheat pasta'],\n",
              " ['nan', 'olive oil', 'whole wheat pasta'],\n",
              " ['shrimp', 'pasta', 'nan'],\n",
              " ['spaghetti', 'pancakes', 'olive oil'],\n",
              " ['spaghetti', 'olive oil', 'tomatoes'],\n",
              " ['spaghetti', 'tomatoes', 'whole wheat rice'],\n",
              " ['spaghetti', 'nan', 'avocado', 'milk'],\n",
              " ['milk', 'cake', 'nan', 'burgers'],\n",
              " ['chocolate', 'turkey', 'nan', 'burgers'],\n",
              " ['milk', 'turkey', 'nan', 'burgers'],\n",
              " ['frozen vegetables', 'cake', 'nan', 'tomatoes'],\n",
              " ['spaghetti', 'nan', 'ground beef', 'cereals'],\n",
              " ['chicken', 'nan', 'ground beef', 'milk'],\n",
              " ['chicken', 'nan', 'olive oil', 'milk'],\n",
              " ['chicken', 'spaghetti', 'nan', 'olive oil'],\n",
              " ['mineral water', 'chocolate', 'ground beef', 'eggs'],\n",
              " ['frozen vegetables', 'chocolate', 'ground beef', 'mineral water'],\n",
              " ['frozen vegetables', 'chocolate', 'ground beef', 'spaghetti'],\n",
              " ['frozen vegetables', 'chocolate', 'mineral water', 'milk'],\n",
              " ['frozen vegetables', 'chocolate', 'spaghetti', 'milk'],\n",
              " ['frozen vegetables', 'chocolate', 'shrimp', 'mineral water'],\n",
              " ['frozen vegetables', 'chocolate', 'shrimp', 'nan'],\n",
              " ['chocolate', 'nan', 'ground beef', 'herb & pepper'],\n",
              " ['chocolate', 'nan', 'soup', 'milk'],\n",
              " ['mineral water', 'chocolate', 'olive oil', 'spaghetti'],\n",
              " ['mineral water', 'chocolate', 'shrimp', 'spaghetti'],\n",
              " ['cooking oil', 'spaghetti', 'nan', 'ground beef'],\n",
              " ['frozen vegetables', 'mineral water', 'milk', 'eggs'],\n",
              " ['herb & pepper', 'nan', 'ground beef', 'eggs'],\n",
              " ['red wine', 'nan', 'spaghetti', 'eggs'],\n",
              " ['herb & pepper', 'nan', 'ground beef', 'french fries'],\n",
              " ['mineral water', 'spaghetti', 'frozen smoothie', 'milk'],\n",
              " ['frozen vegetables', 'tomatoes', 'nan', 'green tea'],\n",
              " ['frozen vegetables', 'mineral water', 'ground beef', 'milk'],\n",
              " ['frozen vegetables', 'spaghetti', 'ground beef', 'milk'],\n",
              " ['frozen vegetables', 'mineral water', 'ground beef', 'spaghetti'],\n",
              " ['frozen vegetables', 'spaghetti', 'nan', 'ground beef'],\n",
              " ['frozen vegetables', 'mineral water', 'olive oil', 'milk'],\n",
              " ['frozen vegetables', 'mineral water', 'soup', 'milk'],\n",
              " ['frozen vegetables', 'mineral water', 'spaghetti', 'milk'],\n",
              " ['frozen vegetables', 'nan', 'olive oil', 'milk'],\n",
              " ['frozen vegetables', 'nan', 'soup', 'milk'],\n",
              " ['frozen vegetables', 'tomatoes', 'nan', 'milk'],\n",
              " ['frozen vegetables', 'mineral water', 'shrimp', 'nan'],\n",
              " ['frozen vegetables', 'mineral water', 'shrimp', 'spaghetti'],\n",
              " ['frozen vegetables', 'mineral water', 'spaghetti', 'tomatoes'],\n",
              " ['frozen vegetables', 'spaghetti', 'nan', 'olive oil'],\n",
              " ['frozen vegetables', 'shrimp', 'nan', 'spaghetti'],\n",
              " ['frozen vegetables', 'shrimp', 'nan', 'tomatoes'],\n",
              " ['frozen vegetables', 'spaghetti', 'nan', 'tomatoes'],\n",
              " ['spaghetti', 'nan', 'ground beef', 'grated cheese'],\n",
              " ['tomatoes', 'nan', 'ground beef', 'green tea'],\n",
              " ['milk', 'nan', 'ground beef', 'herb & pepper'],\n",
              " ['mineral water', 'nan', 'ground beef', 'herb & pepper'],\n",
              " ['spaghetti', 'nan', 'ground beef', 'herb & pepper'],\n",
              " ['mineral water', 'spaghetti', 'ground beef', 'milk'],\n",
              " ['olive oil', 'nan', 'ground beef', 'milk'],\n",
              " ['nan', 'ground beef', 'soup', 'milk'],\n",
              " ['mineral water', 'olive oil', 'ground beef', 'spaghetti'],\n",
              " ['mineral water', 'spaghetti', 'pancakes', 'ground beef'],\n",
              " ['mineral water', 'spaghetti', 'ground beef', 'tomatoes'],\n",
              " ['pepper', 'spaghetti', 'nan', 'ground beef'],\n",
              " ['shrimp', 'nan', 'ground beef', 'spaghetti'],\n",
              " ['spaghetti', 'nan', 'ground beef', 'tomato sauce'],\n",
              " ['mineral water', 'spaghetti', 'nan', 'light cream'],\n",
              " ['mineral water', 'spaghetti', 'olive oil', 'milk'],\n",
              " ['mineral water', 'spaghetti', 'tomatoes', 'milk'],\n",
              " ['shrimp', 'nan', 'olive oil', 'milk'],\n",
              " ['nan', 'olive oil', 'soup', 'milk'],\n",
              " ['spaghetti', 'nan', 'olive oil', 'milk'],\n",
              " ['tomatoes', 'nan', 'soup', 'milk'],\n",
              " ['spaghetti', 'nan', 'whole wheat pasta', 'milk'],\n",
              " ['mineral water', 'nan', 'olive oil', 'soup'],\n",
              " ['mineral water', 'nan', 'olive oil', 'whole wheat pasta'],\n",
              " ['spaghetti', 'pancakes', 'nan', 'olive oil'],\n",
              " ['spaghetti', 'nan', 'olive oil', 'tomatoes'],\n",
              " ['spaghetti', 'nan', 'tomatoes', 'whole wheat rice'],\n",
              " ['mineral water', 'chocolate', 'nan', 'ground beef', 'eggs'],\n",
              " ['frozen vegetables', 'chocolate', 'mineral water', 'nan', 'ground beef'],\n",
              " ['frozen vegetables', 'chocolate', 'spaghetti', 'nan', 'ground beef'],\n",
              " ['milk', 'frozen vegetables', 'chocolate', 'mineral water', 'nan'],\n",
              " ['milk', 'frozen vegetables', 'chocolate', 'spaghetti', 'nan'],\n",
              " ['frozen vegetables', 'chocolate', 'shrimp', 'mineral water', 'nan'],\n",
              " ['mineral water', 'chocolate', 'spaghetti', 'nan', 'olive oil'],\n",
              " ['mineral water', 'chocolate', 'shrimp', 'spaghetti', 'nan'],\n",
              " ['milk', 'frozen vegetables', 'mineral water', 'nan', 'eggs'],\n",
              " ['frozen smoothie', 'milk', 'mineral water', 'spaghetti', 'nan'],\n",
              " ['milk', 'frozen vegetables', 'mineral water', 'nan', 'ground beef'],\n",
              " ['milk', 'frozen vegetables', 'spaghetti', 'nan', 'ground beef'],\n",
              " ['frozen vegetables', 'mineral water', 'spaghetti', 'nan', 'ground beef'],\n",
              " ['milk', 'frozen vegetables', 'mineral water', 'nan', 'olive oil'],\n",
              " ['milk', 'frozen vegetables', 'mineral water', 'soup', 'nan'],\n",
              " ['milk', 'frozen vegetables', 'mineral water', 'spaghetti', 'nan'],\n",
              " ['frozen vegetables', 'mineral water', 'shrimp', 'spaghetti', 'nan'],\n",
              " ['tomatoes', 'frozen vegetables', 'mineral water', 'spaghetti', 'nan'],\n",
              " ['milk', 'mineral water', 'spaghetti', 'nan', 'ground beef'],\n",
              " ['mineral water', 'spaghetti', 'ground beef', 'nan', 'olive oil'],\n",
              " ['pancakes', 'mineral water', 'spaghetti', 'nan', 'ground beef'],\n",
              " ['tomatoes', 'mineral water', 'spaghetti', 'nan', 'ground beef'],\n",
              " ['milk', 'mineral water', 'spaghetti', 'nan', 'olive oil'],\n",
              " ['tomatoes', 'milk', 'mineral water', 'spaghetti', 'nan']]"
            ]
          },
          "metadata": {
            "tags": []
          },
          "execution_count": 26
        }
      ]
    },
    {
      "cell_type": "code",
      "metadata": {
        "id": "QPBOyKxzlCiN",
        "colab_type": "code",
        "colab": {}
      },
      "source": [
        ""
      ],
      "execution_count": 0,
      "outputs": []
    }
  ]
}