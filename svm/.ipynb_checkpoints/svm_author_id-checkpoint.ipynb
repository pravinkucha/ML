{
 "cells": [
  {
   "cell_type": "code",
   "execution_count": 1,
   "metadata": {},
   "outputs": [],
   "source": [
    "#!/usr/bin/python\n",
    "\n",
    "\"\"\" \n",
    "    This is the code to accompany the Lesson 2 (SVM) mini-project.\n",
    "\n",
    "    Use a SVM to identify emails from the Enron corpus by their authors:    \n",
    "    Sara has label 0\n",
    "    Chris has label 1\n",
    "\"\"\"\n",
    "    \n",
    "import sys\n",
    "from time import time,ctime\n",
    "from datetime import datetime\n",
    "sys.path.append(\"../tools/\")\n",
    "from email_preprocess import preprocess"
   ]
  },
  {
   "cell_type": "code",
   "execution_count": 2,
   "metadata": {},
   "outputs": [
    {
     "name": "stdout",
     "output_type": "stream",
     "text": [
      "splite start = Fri Jun 26 16:30:15 2020\n",
      "no. of Chris training emails: 7936\n",
      "no. of Sara training emails: 7884\n",
      "splite end = Fri Jun 26 16:30:20 2020\n",
      "4.111207\n"
     ]
    }
   ],
   "source": [
    "### features_train and features_test are the features for the training\n",
    "### and testing datasets, respectively\n",
    "### labels_train and labels_test are the corresponding item labels\n",
    "print(\"splite start =\", ctime())\n",
    "t1 = datetime.now()\n",
    "features_train, features_test, labels_train, labels_test = preprocess()\n",
    "print(\"splite end =\", ctime())\n",
    "t2 = datetime.now()\n",
    "delta = t2 - t1\n",
    "print(delta.total_seconds())"
   ]
  },
  {
   "cell_type": "code",
   "execution_count": 3,
   "metadata": {},
   "outputs": [
    {
     "name": "stdout",
     "output_type": "stream",
     "text": [
      "train time start = Fri Jun 26 16:30:34 2020\n",
      "train time end = Fri Jun 26 16:36:05 2020\n",
      "330.964192\n"
     ]
    }
   ],
   "source": [
    "print(\"train time start =\", ctime())\n",
    "t1 = datetime.now()\n",
    "from sklearn.svm import SVC\n",
    "clf = SVC(kernel='rbf')\n",
    "clf.fit(features_train,labels_train)\n",
    "print(\"train time end =\", ctime())\n",
    "t2 = datetime.now()\n",
    "delta = t2 - t1\n",
    "print(delta.total_seconds())"
   ]
  },
  {
   "cell_type": "code",
   "execution_count": 4,
   "metadata": {},
   "outputs": [
    {
     "name": "stdout",
     "output_type": "stream",
     "text": [
      "predict time start = Fri Jun 26 16:39:50 2020\n",
      "predict time end = Fri Jun 26 16:40:20 2020\n",
      "30.411774\n"
     ]
    },
    {
     "data": {
      "text/plain": [
       "array([0, 0, 1, ..., 1, 0, 0])"
      ]
     },
     "execution_count": 4,
     "metadata": {},
     "output_type": "execute_result"
    }
   ],
   "source": [
    "print(\"predict time start =\", ctime())\n",
    "t1 = datetime.now()\n",
    "y_pred = clf.predict(features_test)\n",
    "print(\"predict time end =\", ctime())\n",
    "t2 = datetime.now()\n",
    "delta = t2 - t1\n",
    "print(delta.total_seconds())\n",
    "y_pred"
   ]
  },
  {
   "cell_type": "code",
   "execution_count": 5,
   "metadata": {},
   "outputs": [
    {
     "name": "stdout",
     "output_type": "stream",
     "text": [
      "Number of mislabeled points out of a total 1758 points : 13\n"
     ]
    }
   ],
   "source": [
    "print(\"Number of mislabeled points out of a total %d points : %d\"\n",
    "      % (features_test.shape[0], (labels_test != y_pred).sum()))"
   ]
  },
  {
   "cell_type": "code",
   "execution_count": 6,
   "metadata": {},
   "outputs": [
    {
     "data": {
      "text/plain": [
       "0.9926052332195677"
      ]
     },
     "execution_count": 6,
     "metadata": {},
     "output_type": "execute_result"
    }
   ],
   "source": [
    "from sklearn.metrics import accuracy_score\n",
    "scor = accuracy_score(y_pred,labels_test)\n",
    "scor"
   ]
  },
  {
   "cell_type": "code",
   "execution_count": null,
   "metadata": {},
   "outputs": [],
   "source": []
  }
 ],
 "metadata": {
  "kernelspec": {
   "display_name": "Python 3",
   "language": "python",
   "name": "python3"
  },
  "language_info": {
   "codemirror_mode": {
    "name": "ipython",
    "version": 3
   },
   "file_extension": ".py",
   "mimetype": "text/x-python",
   "name": "python",
   "nbconvert_exporter": "python",
   "pygments_lexer": "ipython3",
   "version": "3.7.6"
  }
 },
 "nbformat": 4,
 "nbformat_minor": 4
}
