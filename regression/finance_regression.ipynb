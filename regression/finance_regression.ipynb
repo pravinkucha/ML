{
 "cells": [
  {
   "cell_type": "code",
   "execution_count": 1,
   "metadata": {},
   "outputs": [],
   "source": [
    "#!/usr/bin/python\n",
    "\n",
    "import sys\n",
    "import pickle\n",
    "sys.path.append(\"../tools/\")\n",
    "from feature_format import featureFormat, targetFeatureSplit"
   ]
  },
  {
   "cell_type": "code",
   "execution_count": 3,
   "metadata": {},
   "outputs": [],
   "source": [
    "class StrToBytes:\n",
    "    def __init__(self, fileobj):\n",
    "        self.fileobj = fileobj\n",
    "    def read(self, size):\n",
    "        return self.fileobj.read(size).encode()\n",
    "    def readline(self, size=-1):\n",
    "        return self.fileobj.readline(size).encode()"
   ]
  },
  {
   "cell_type": "code",
   "execution_count": 14,
   "metadata": {},
   "outputs": [],
   "source": [
    "dictionary = pickle.load(StrToBytes(open(\"../final_project/final_project_dataset_modified.pkl\", \"r\")))\n"
   ]
  },
  {
   "cell_type": "code",
   "execution_count": 15,
   "metadata": {},
   "outputs": [
    {
     "data": {
      "text/plain": [
       "array([[ 600000.,  365788.],\n",
       "       [1200000.,  267102.],\n",
       "       [ 350000.,  170941.],\n",
       "       [1500000.,  243293.],\n",
       "       [ 325000.,  267093.],\n",
       "       [2600000.,  370448.],\n",
       "       [1150000.,  374125.],\n",
       "       [ 400000.,  197091.],\n",
       "       [ 850000.,  248546.],\n",
       "       [ 700000.,  257486.],\n",
       "       [1200000.,  288542.],\n",
       "       [1100000.,  251654.],\n",
       "       [ 250000.,  288558.],\n",
       "       [ 850000.,  357091.],\n",
       "       [3100000.,  271442.],\n",
       "       [2000000.,  304110.],\n",
       "       [ 250000.,  187922.],\n",
       "       [1000000.,  213625.],\n",
       "       [ 700000.,  249201.],\n",
       "       [ 700000.,  231330.],\n",
       "       [ 200000.,  182245.],\n",
       "       [1700000.,  211788.],\n",
       "       [ 800000.,  224305.],\n",
       "       [1000000.,  273746.],\n",
       "       [8000000.,  339288.],\n",
       "       [ 425000.,  210500.],\n",
       "       [ 750000.,  272880.],\n",
       "       [ 650000.,  269076.],\n",
       "       [1500000.,  428780.],\n",
       "       [ 200000.,  211844.],\n",
       "       [ 600000.,  206121.],\n",
       "       [3000000.,  510364.],\n",
       "       [1100000.,  365038.],\n",
       "       [3000000.,  365163.],\n",
       "       [ 100000.,  162779.],\n",
       "       [ 200000.,  236457.],\n",
       "       [ 750000.,  261516.],\n",
       "       [ 750000.,  329078.],\n",
       "       [ 325000.,  184899.],\n",
       "       [ 509870.,  192008.],\n",
       "       [ 700000.,  262663.],\n",
       "       [2500000.,  304588.],\n",
       "       [1350000.,  278601.],\n",
       "       [ 350000.,  199157.],\n",
       "       [5249999.,  213999.],\n",
       "       [1000000.,  262788.],\n",
       "       [ 750000.,  210692.],\n",
       "       [1300000.,  440698.],\n",
       "       [1250000.,  240189.],\n",
       "       [1750000.,  420636.],\n",
       "       [ 400000.,  275101.],\n",
       "       [ 800000.,  314288.],\n",
       "       [ 500000.,  239502.],\n",
       "       [ 788750.,  288589.],\n",
       "       [1000000.,  404338.],\n",
       "       [ 325000.,  259996.],\n",
       "       [ 450000.,  317543.],\n",
       "       [4175000.,  201955.],\n",
       "       [ 600000.,  248146.],\n",
       "       [ 900000.,  263413.],\n",
       "       [ 100000.,   76399.],\n",
       "       [ 300000.,  655037.],\n",
       "       [ 300000.,  261809.],\n",
       "       [ 500000.,  248017.],\n",
       "       [ 400000.,  229284.],\n",
       "       [ 850000.,  231946.],\n",
       "       [  70000.,  221003.],\n",
       "       [ 600000.,  250100.],\n",
       "       [ 800000.,  492375.],\n",
       "       [2000000., 1060932.],\n",
       "       [1000000.,  261879.],\n",
       "       [ 400000.,  239671.],\n",
       "       [ 700000.,  309946.],\n",
       "       [ 300000.,  247338.],\n",
       "       [ 900000.,  330546.],\n",
       "       [1000000.,  415189.],\n",
       "       [ 600000.,  265214.],\n",
       "       [ 800000.,  278601.],\n",
       "       [ 600000.,  274975.]])"
      ]
     },
     "execution_count": 15,
     "metadata": {},
     "output_type": "execute_result"
    }
   ],
   "source": [
    "### list the features you want to look at--first item in the \n",
    "### list will be the \"target\" feature\n",
    "features_list = [\"bonus\", \"salary\"]\n",
    "data = featureFormat( dictionary, features_list, remove_any_zeroes=True)\n",
    "data"
   ]
  },
  {
   "cell_type": "code",
   "execution_count": 16,
   "metadata": {},
   "outputs": [],
   "source": [
    "target, features = targetFeatureSplit( data )"
   ]
  },
  {
   "cell_type": "code",
   "execution_count": 17,
   "metadata": {},
   "outputs": [],
   "source": [
    "### training-testing split needed in regression, just like classification\n",
    "from sklearn.model_selection import train_test_split\n",
    "feature_train, feature_test, target_train, target_test =  train_test_split(features, target, test_size=0.5, random_state=42)\n",
    "train_color = \"b\"\n",
    "test_color = \"r\""
   ]
  },
  {
   "cell_type": "code",
   "execution_count": 18,
   "metadata": {},
   "outputs": [
    {
     "name": "stdout",
     "output_type": "stream",
     "text": [
      "[1.97017287]\n",
      "662220.417601581\n",
      "0.04164573226747781\n"
     ]
    }
   ],
   "source": [
    "from sklearn.linear_model import LinearRegression\n",
    "reg = LinearRegression()\n",
    "reg.fit(feature_train,target_train)\n",
    "print(reg.coef_)\n",
    "print(reg.intercept_)\n",
    "print(reg.score(feature_train,target_train))"
   ]
  },
  {
   "cell_type": "code",
   "execution_count": 23,
   "metadata": {},
   "outputs": [
    {
     "data": {
      "image/png": "[encoded data removed]",
      "text/plain": [
       "<Figure size 432x288 with 1 Axes>"
      ]
     },
     "metadata": {
      "needs_background": "light"
     },
     "output_type": "display_data"
    }
   ],
   "source": [
    "### draw the scatterplot, with color-coded training and testing points\n",
    "import matplotlib.pyplot as plt\n",
    "for feature, target in zip(feature_test, target_test):\n",
    "    plt.scatter( feature, target, color=test_color ) \n",
    "for feature, target in zip(feature_train, target_train):\n",
    "    plt.scatter( feature, target, color=train_color ) \n",
    "\n",
    "### labels for the legend\n",
    "plt.scatter(feature_test[0], target_test[0], color=test_color, label=\"test\")\n",
    "plt.scatter(feature_test[0], target_test[0], color=train_color, label=\"train\")\n",
    "\n",
    "\n",
    "\n",
    "#reg.fit(feature_test, target_test)\n",
    "### draw the regression line, once it's coded\n",
    "try:\n",
    "    plt.plot( feature_test, reg.predict(feature_test) )\n",
    "except NameError:\n",
    "    pass\n",
    "plt.xlabel(features_list[1])\n",
    "plt.ylabel(features_list[0])\n",
    "plt.legend()\n",
    "plt.show()"
   ]
  },
  {
   "cell_type": "code",
   "execution_count": 15,
   "metadata": {},
   "outputs": [
    {
     "name": "stdout",
     "output_type": "stream",
     "text": [
      "[0.2671367]\n",
      "1044304.063758236\n"
     ]
    }
   ],
   "source": [
    "print(reg.coef_)\n",
    "print(reg.intercept_)"
   ]
  },
  {
   "cell_type": "code",
   "execution_count": 16,
   "metadata": {},
   "outputs": [
    {
     "name": "stdout",
     "output_type": "stream",
     "text": [
      "0.10891175736247372\n"
     ]
    }
   ],
   "source": [
    "print(reg.score(feature_test,target_test))"
   ]
  },
  {
   "cell_type": "code",
   "execution_count": null,
   "metadata": {},
   "outputs": [],
   "source": []
  }
 ],
 "metadata": {
  "kernelspec": {
   "display_name": "Python 3",
   "language": "python",
   "name": "python3"
  },
  "language_info": {
   "codemirror_mode": {
    "name": "ipython",
    "version": 3
   },
   "file_extension": ".py",
   "mimetype": "text/x-python",
   "name": "python",
   "nbconvert_exporter": "python",
   "pygments_lexer": "ipython3",
   "version": "3.7.6"
  }
 },
 "nbformat": 4,
 "nbformat_minor": 4
}
